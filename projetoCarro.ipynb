{
 "cells": [
  {
   "cell_type": "markdown",
   "id": "60e9c3de",
   "metadata": {},
   "source": [
    "LIMPEZA DOS DADOS"
   ]
  },
  {
   "cell_type": "code",
   "execution_count": null,
   "id": "e9094a1c",
   "metadata": {},
   "outputs": [],
   "source": [
    "import sklearn as sk\n",
    "import matplotlib as mt\n",
    "import seaborn as sb\n",
    "from sklearn.model_selection import train_test_split\n",
    "import pandas as pd\n",
    "from sklearn.preprocessing import OneHotEncoder"
   ]
  },
  {
   "cell_type": "code",
   "execution_count": null,
   "id": "6590b6a9",
   "metadata": {},
   "outputs": [],
   "source": [
    "df = pd.read_csv(\"dataset.csv\")"
   ]
  },
  {
   "cell_type": "code",
   "execution_count": null,
   "id": "357f1d17",
   "metadata": {},
   "outputs": [],
   "source": [
    "# A base ta limpinha\n",
    "print(df)\n",
    "df.duplicated().sum()\n",
    "df.isnull().sum()"
   ]
  },
  {
   "cell_type": "code",
   "execution_count": null,
   "id": "54befaa7",
   "metadata": {},
   "outputs": [],
   "source": [
    "# Renomear as colunas em pt-br pra facilitar a vida\n",
    "df = df.rename(columns={\n",
    "    'region': 'regiao',\n",
    "    'category': 'categoria',\n",
    "    'parameter': 'parametro',\n",
    "    'mode': 'tipo_veiculo',\n",
    "    'powertrain': 'motorizacao',\n",
    "    'year': 'ano',\n",
    "    'unit': 'unidade',\n",
    "    'value': 'valor'\n",
    "})"
   ]
  },
  {
   "cell_type": "markdown",
   "id": "fdc2c99f",
   "metadata": {},
   "source": [
    "FILTROS "
   ]
  },
  {
   "cell_type": "code",
   "execution_count": null,
   "id": "b0ac4e92",
   "metadata": {},
   "outputs": [],
   "source": [
    "# Filtrar somente vendas anuais (parametro = 'EV sales' e unidade = 'Vehicles')\n",
    "df_vendas = df[(df['parametro'] == 'EV sales') & (df['unidade'] == 'Vehicles')]\n",
    "\n",
    "# Visualizar as primeiras linhas para confirmar\n",
    "print(df_vendas.head())\n",
    "print(df_vendas.columns)\n"
   ]
  },
  {
   "cell_type": "code",
   "execution_count": null,
   "id": "c946c5fe",
   "metadata": {},
   "outputs": [],
   "source": [
    "# Transformar a coluna valor (quantidade de veículos vendidos) em uma variável categórica, dividindo as vendas em faixas: “baixo”, “médio” e “alto” para classificação.\n",
    "# Usamos a função pd.qcut() para criar as três faixas baseadas nos tercis (ou seja, dividindo os dados em três partes iguais).\n",
    "# Criando a variável-alvo: faixa de vendas\n",
    "df_vendas['faixa_vendas'] = pd.qcut(df_vendas['valor'], q=3, labels=['baixo', 'medio', 'alto'])\n",
    "\n",
    "# Conferindo o resultado\n",
    "print(df_vendas[['regiao', 'ano', 'valor', 'faixa_vendas']].sample(10))\n",
    "print(df_vendas['faixa_vendas'].value_counts())\n"
   ]
  },
  {
   "cell_type": "markdown",
   "id": "a875661c",
   "metadata": {},
   "source": [
    "PRÉ PROCESSAMENTO"
   ]
  },
  {
   "cell_type": "code",
   "execution_count": null,
   "id": "f419b6c1",
   "metadata": {},
   "outputs": [],
   "source": [
    "#  Separação das variáveis\n",
    "# Features e variável-alvo\n",
    "features = ['regiao', 'ano', 'motorizacao']  # Ajuste conforme desejar\n",
    "X = df_vendas[features]\n",
    "y = df_vendas['faixa_vendas']\n"
   ]
  },
  {
   "cell_type": "code",
   "execution_count": null,
   "id": "3181d19b",
   "metadata": {},
   "outputs": [],
   "source": [
    "# Separar conjunto de treino e teste\n",
    "\n",
    "# Separar os dados\n",
    "X_train, X_test, y_train, y_test = train_test_split(\n",
    "    X, y, test_size=0.3, random_state=42, stratify=y\n",
    ")\n"
   ]
  },
  {
   "cell_type": "code",
   "execution_count": null,
   "id": "a558a1fb",
   "metadata": {},
   "outputs": [],
   "source": [
    "# Transformar variáveis categóricas\n",
    "# Como temos categorias (ex: países, tipos de motorização), precisamos codificá-las.\n",
    "# O mais comum é usar OneHotEncoder.\n",
    "\n",
    "# Usar o argumento correto para a versão mais recente do scikit-learn\n",
    "ohe = OneHotEncoder(sparse_output=False, handle_unknown='ignore')\n",
    "\n",
    "# Ajustar e transformar os dados\n",
    "X_train_enc = ohe.fit_transform(X_train)\n",
    "X_test_enc = ohe.transform(X_test)\n"
   ]
  },
  {
   "cell_type": "code",
   "execution_count": null,
   "id": "35c42a24",
   "metadata": {},
   "outputs": [],
   "source": [
    "# Conferência\n",
    "print(\"Shape do X_train_enc:\", X_train_enc.shape)\n",
    "print(\"Shape do X_test_enc:\", X_test_enc.shape)\n",
    "print(\"Classes alvo:\", y.unique())\n"
   ]
  },
  {
   "cell_type": "markdown",
   "id": "2dff4e65",
   "metadata": {},
   "source": [
    "ARVORE DE DECISÃO"
   ]
  },
  {
   "cell_type": "code",
   "execution_count": null,
   "id": "17f45045",
   "metadata": {},
   "outputs": [],
   "source": [
    "#  Treinando o Classificador (Árvore de Decisão)\n",
    "from sklearn.tree import DecisionTreeClassifier\n",
    "from sklearn.metrics import classification_report, confusion_matrix\n",
    "\n",
    "# Treinamento do modelo\n",
    "dt = DecisionTreeClassifier(max_depth=5, random_state=42)\n",
    "dt.fit(X_train_enc, y_train)\n",
    "\n",
    "# Previsões\n",
    "y_pred = dt.predict(X_test_enc)\n"
   ]
  },
  {
   "cell_type": "code",
   "execution_count": null,
   "id": "63f5077d",
   "metadata": {},
   "outputs": [],
   "source": [
    "# Avaliando o Modelo\n",
    "# Relatório de classificação\n",
    "print(classification_report(y_test, y_pred))\n",
    "\n",
    "# Matriz de confusão\n",
    "print(\"Matriz de Confusão:\")\n",
    "print(confusion_matrix(y_test, y_pred))\n"
   ]
  },
  {
   "cell_type": "code",
   "execution_count": null,
   "id": "18c4d614",
   "metadata": {},
   "outputs": [],
   "source": [
    "# Visualização da Árvore de Decisão\n",
    "\n",
    "from sklearn import tree\n",
    "import matplotlib.pyplot as plt\n",
    "\n",
    "plt.figure(figsize=(22,10))\n",
    "tree.plot_tree(\n",
    "    dt,\n",
    "    feature_names=ohe.get_feature_names_out(),\n",
    "    class_names=dt.classes_,\n",
    "    filled=True,\n",
    "    fontsize=9,\n",
    "    rounded=True\n",
    ")\n",
    "plt.show()\n"
   ]
  },
  {
   "cell_type": "markdown",
   "id": "34a8f4fd",
   "metadata": {},
   "source": [
    "RANDOM FOREST"
   ]
  },
  {
   "cell_type": "code",
   "execution_count": null,
   "id": "e9c392b0",
   "metadata": {},
   "outputs": [],
   "source": [
    "# Treinando o Random Forest\n",
    "from sklearn.ensemble import RandomForestClassifier\n",
    "\n",
    "# Treinamento do modelo Random Forest\n",
    "rf = RandomForestClassifier(n_estimators=100, max_depth=7, random_state=42)\n",
    "rf.fit(X_train_enc, y_train)\n",
    "\n",
    "# Previsões\n",
    "y_pred_rf = rf.predict(X_test_enc)\n"
   ]
  },
  {
   "cell_type": "code",
   "execution_count": null,
   "id": "3660c575",
   "metadata": {},
   "outputs": [],
   "source": [
    "# Avaliando o Modelo Random Forest\n",
    "\n",
    "from sklearn.metrics import classification_report, confusion_matrix\n",
    "\n",
    "print(\"=== Random Forest ===\")\n",
    "print(classification_report(y_test, y_pred_rf))\n",
    "print(\"Matriz de Confusão:\")\n",
    "print(confusion_matrix(y_test, y_pred_rf))\n"
   ]
  },
  {
   "cell_type": "code",
   "execution_count": null,
   "id": "ef82ab31",
   "metadata": {},
   "outputs": [],
   "source": [
    "# Importância das Variáveis\n",
    "\n",
    "import numpy as np\n",
    "\n",
    "importances = rf.feature_importances_\n",
    "feature_names = ohe.get_feature_names_out()\n",
    "indices = np.argsort(importances)[::-1]\n",
    "\n",
    "print(\"Importância das variáveis (top 10):\")\n",
    "for i in range(min(10, len(feature_names))):\n",
    "    print(f\"{feature_names[indices[i]]}: {importances[indices[i]]:.4f}\")\n"
   ]
  },
  {
   "cell_type": "markdown",
   "id": "0ac09aac",
   "metadata": {},
   "source": [
    "COMPARATIVO "
   ]
  },
  {
   "cell_type": "code",
   "execution_count": 33,
   "id": "df68dc16",
   "metadata": {},
   "outputs": [
    {
     "name": "stdout",
     "output_type": "stream",
     "text": [
      "              Modelo  Acurácia  Precisão (macro)  Recall (macro)  \\\n",
      "0  Árvore de Decisão  0.486352          0.643853        0.486807   \n",
      "1      Random Forest  0.602978          0.645902        0.603409   \n",
      "\n",
      "   F1-score (macro)  \n",
      "0          0.467892  \n",
      "1          0.606052  \n"
     ]
    }
   ],
   "source": [
    "from sklearn.metrics import accuracy_score, precision_score, recall_score, f1_score\n",
    "\n",
    "# Função para gerar um dicionário de métricas\n",
    "def get_metrics(y_true, y_pred, modelo):\n",
    "    return {\n",
    "        'Modelo': modelo,\n",
    "        'Acurácia': accuracy_score(y_true, y_pred),\n",
    "        'Precisão (macro)': precision_score(y_true, y_pred, average='macro'),\n",
    "        'Recall (macro)': recall_score(y_true, y_pred, average='macro'),\n",
    "        'F1-score (macro)': f1_score(y_true, y_pred, average='macro')\n",
    "    }\n",
    "\n",
    "# Métricas da Árvore de Decisão\n",
    "metrics_dt = get_metrics(y_test, y_pred, 'Árvore de Decisão')\n",
    "\n",
    "# Métricas do Random Forest\n",
    "metrics_rf = get_metrics(y_test, y_pred_rf, 'Random Forest')\n",
    "\n",
    "# Organizar em DataFrame para visualização comparativa\n",
    "import pandas as pd\n",
    "df_comparacao = pd.DataFrame([metrics_dt, metrics_rf])\n",
    "\n",
    "print(df_comparacao)\n"
   ]
  }
 ],
 "metadata": {
  "kernelspec": {
   "display_name": "Python 3",
   "language": "python",
   "name": "python3"
  },
  "language_info": {
   "codemirror_mode": {
    "name": "ipython",
    "version": 3
   },
   "file_extension": ".py",
   "mimetype": "text/x-python",
   "name": "python",
   "nbconvert_exporter": "python",
   "pygments_lexer": "ipython3",
   "version": "3.12.10"
  }
 },
 "nbformat": 4,
 "nbformat_minor": 5
}
