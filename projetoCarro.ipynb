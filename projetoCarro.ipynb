{
 "cells": [
  {
   "cell_type": "markdown",
   "id": "60e9c3de",
   "metadata": {},
   "source": [
    "LIMPEZA DOS DADOS"
   ]
  },
  {
   "cell_type": "code",
   "execution_count": 1,
   "id": "e9094a1c",
   "metadata": {},
   "outputs": [],
   "source": [
    "import sklearn as sk\n",
    "import matplotlib as mt\n",
    "import seaborn as sb\n",
    "from sklearn.model_selection import train_test_split\n",
    "import pandas as pd\n",
    "from sklearn.preprocessing import OneHotEncoder\n",
    "import pandas as pd"
   ]
  },
  {
   "cell_type": "code",
   "execution_count": 2,
   "id": "6590b6a9",
   "metadata": {},
   "outputs": [],
   "source": [
    "df = pd.read_csv(\"dataset.csv\")"
   ]
  },
  {
   "cell_type": "code",
   "execution_count": 3,
   "id": "357f1d17",
   "metadata": {},
   "outputs": [
    {
     "name": "stdout",
     "output_type": "stream",
     "text": [
      "         region    category           parameter  mode powertrain  year  \\\n",
      "0     Australia  Historical            EV sales  Cars        BEV  2011   \n",
      "1     Australia  Historical      EV stock share  Cars         EV  2011   \n",
      "2     Australia  Historical      EV sales share  Cars         EV  2011   \n",
      "3     Australia  Historical            EV stock  Cars        BEV  2011   \n",
      "4     Australia  Historical            EV stock  Cars        BEV  2012   \n",
      "...         ...         ...                 ...   ...        ...   ...   \n",
      "3793      World  Historical            EV stock  Cars        BEV  2023   \n",
      "3794      World  Historical            EV sales  Cars        BEV  2023   \n",
      "3795      World  Historical      EV sales share  Cars         EV  2023   \n",
      "3796      World  Historical      EV stock share  Cars         EV  2023   \n",
      "3797      World  Historical  Electricity demand  Cars         EV  2023   \n",
      "\n",
      "          unit         value  \n",
      "0     Vehicles  4.900000e+01  \n",
      "1      percent  3.900000e-04  \n",
      "2      percent  6.500000e-03  \n",
      "3     Vehicles  4.900000e+01  \n",
      "4     Vehicles  2.200000e+02  \n",
      "...        ...           ...  \n",
      "3793  Vehicles  2.800000e+07  \n",
      "3794  Vehicles  9.500000e+06  \n",
      "3795   percent  1.800000e+01  \n",
      "3796   percent  3.200000e+00  \n",
      "3797       GWh  9.700000e+04  \n",
      "\n",
      "[3798 rows x 8 columns]\n"
     ]
    },
    {
     "data": {
      "text/plain": [
       "region        0\n",
       "category      0\n",
       "parameter     0\n",
       "mode          0\n",
       "powertrain    0\n",
       "year          0\n",
       "unit          0\n",
       "value         0\n",
       "dtype: int64"
      ]
     },
     "execution_count": 3,
     "metadata": {},
     "output_type": "execute_result"
    }
   ],
   "source": [
    "# A base ta limpinha\n",
    "print(df)\n",
    "df.duplicated().sum()\n",
    "df.isnull().sum()"
   ]
  },
  {
   "cell_type": "code",
   "execution_count": 4,
   "id": "54befaa7",
   "metadata": {},
   "outputs": [],
   "source": [
    "# Renomear as colunas em pt-br pra facilitar a vida\n",
    "df = df.rename(columns={\n",
    "    'region': 'regiao',\n",
    "    'category': 'categoria',\n",
    "    'parameter': 'parametro',\n",
    "    'mode': 'tipo_veiculo',\n",
    "    'powertrain': 'motorizacao',\n",
    "    'year': 'ano',\n",
    "    'unit': 'unidade',\n",
    "    'value': 'valor'\n",
    "})"
   ]
  },
  {
   "cell_type": "code",
   "execution_count": 11,
   "id": "45bda8d1",
   "metadata": {},
   "outputs": [
    {
     "name": "stdout",
     "output_type": "stream",
     "text": [
      "continente\n",
      "Europe     2152\n",
      "Asia        592\n",
      "America     515\n",
      "Oceania     174\n",
      "World       154\n",
      "Outros      124\n",
      "Africa       87\n",
      "Name: count, dtype: int64\n"
     ]
    }
   ],
   "source": [
    "\n",
    "regiao_continente = {\n",
    "    'World': 'World',\n",
    "    'Europe': 'Europe',\n",
    "    'EU27': 'Europe',\n",
    "    'France': 'Europe',\n",
    "    'Germany': 'Europe',\n",
    "    'Italy': 'Europe',\n",
    "    'United Kingdom': 'Europe',\n",
    "    'Spain': 'Europe',\n",
    "    'Portugal': 'Europe',\n",
    "    'Norway': 'Europe',\n",
    "    'Sweden': 'Europe',\n",
    "    'Finland': 'Europe',\n",
    "    'Denmark': 'Europe',\n",
    "    'Iceland': 'Europe',\n",
    "    'Poland': 'Europe',\n",
    "    'Netherlands': 'Europe',\n",
    "    'Belgium': 'Europe',\n",
    "    'Austria': 'Europe',\n",
    "    'Luxembourg': 'Europe',\n",
    "    'Switzerland': 'Europe',\n",
    "    'Ireland': 'Europe',\n",
    "    'Czech Republic': 'Europe',\n",
    "    'Slovakia': 'Europe',\n",
    "    'Hungary': 'Europe',\n",
    "    'Slovenia': 'Europe',\n",
    "    'Croatia': 'Europe',\n",
    "    'Bulgaria': 'Europe',\n",
    "    'Greece': 'Europe',\n",
    "    'Rest of the world': 'Outros',\n",
    "    'Estonia': 'Europe',\n",
    "    'Latvia': 'Europe',\n",
    "    'Lithuania': 'Europe',\n",
    "    'Romania': 'Europe',\n",
    "    'Cyprus': 'Europe',\n",
    "    'Seychelles': 'Africa',\n",
    "    'South Africa': 'Africa',\n",
    "    'Canada': 'America',\n",
    "    'USA': 'America',\n",
    "    'Mexico': 'America',\n",
    "    'Brazil': 'America',\n",
    "    'Chile': 'America',\n",
    "    'Colombia': 'America',\n",
    "    'Costa Rica': 'America',\n",
    "    'China': 'Asia',\n",
    "    'India': 'Asia',\n",
    "    'Japan': 'Asia',\n",
    "    'Korea': 'Asia',\n",
    "    'Israel': 'Asia',\n",
    "    'Turkey': 'Asia',\n",
    "    'Turkiye': 'Asia', \n",
    "    'United Arab Emirates': 'Asia',\n",
    "    'Australia': 'Oceania',\n",
    "    'New Zealand': 'Oceania',\n",
    "    'Rest of the world': 'Outros'\n",
    "    \n",
    "}\n",
    "\n",
    "df['continente'] = df['regiao'].map(regiao_continente).fillna('Outros')\n",
    "\n",
    "print(df['continente'].value_counts())\n",
    "df.to_csv('dataset_com_continente.csv', index=False)\n"
   ]
  },
  {
   "cell_type": "code",
   "execution_count": 13,
   "id": "984a5140",
   "metadata": {},
   "outputs": [],
   "source": [
    "df_limpo = pd.read_csv(\"dataset_com_continente.csv\")"
   ]
  },
  {
   "cell_type": "markdown",
   "id": "fdc2c99f",
   "metadata": {},
   "source": [
    "FILTROS "
   ]
  },
  {
   "cell_type": "code",
   "execution_count": 14,
   "id": "b0ac4e92",
   "metadata": {},
   "outputs": [
    {
     "name": "stdout",
     "output_type": "stream",
     "text": [
      "       regiao   categoria parametro tipo_veiculo motorizacao   ano   unidade  \\\n",
      "0   Australia  Historical  EV sales         Cars         BEV  2011  Vehicles   \n",
      "6   Australia  Historical  EV sales         Cars        PHEV  2012  Vehicles   \n",
      "9   Australia  Historical  EV sales         Cars         BEV  2012  Vehicles   \n",
      "10  Australia  Historical  EV sales         Cars         BEV  2013  Vehicles   \n",
      "13  Australia  Historical  EV sales         Cars        PHEV  2013  Vehicles   \n",
      "\n",
      "    valor continente  \n",
      "0    49.0    Oceania  \n",
      "6    80.0    Oceania  \n",
      "9   170.0    Oceania  \n",
      "10  190.0    Oceania  \n",
      "13  100.0    Oceania  \n",
      "Index(['regiao', 'categoria', 'parametro', 'tipo_veiculo', 'motorizacao',\n",
      "       'ano', 'unidade', 'valor', 'continente'],\n",
      "      dtype='object')\n"
     ]
    }
   ],
   "source": [
    "# Filtrar somente vendas anuais (parametro = 'EV sales' e unidade = 'Vehicles')\n",
    "df_vendas = df_limpo[(df_limpo['parametro'] == 'EV sales') & (df_limpo['unidade'] == 'Vehicles')]\n",
    "\n",
    "# Visualizar as primeiras linhas para confirmar\n",
    "print(df_vendas.head())\n",
    "print(df_vendas.columns)\n"
   ]
  },
  {
   "cell_type": "code",
   "execution_count": 15,
   "id": "c946c5fe",
   "metadata": {},
   "outputs": [
    {
     "name": "stdout",
     "output_type": "stream",
     "text": [
      "              regiao   ano    valor faixa_vendas\n",
      "2684        Portugal  2013    150.0        baixo\n",
      "2460     New Zealand  2020   3900.0        medio\n",
      "2919        Slovakia  2018    290.0        medio\n",
      "1702           India  2016    730.0        medio\n",
      "532            Chile  2021      1.0        baixo\n",
      "375         Bulgaria  2023    360.0        medio\n",
      "906          Estonia  2020    340.0        medio\n",
      "3458  United Kingdom  2018  46000.0         alto\n",
      "2283          Mexico  2022   4400.0        medio\n",
      "716       Costa Rica  2017     25.0        baixo\n",
      "faixa_vendas\n",
      "baixo    449\n",
      "alto     448\n",
      "medio    445\n",
      "Name: count, dtype: int64\n"
     ]
    },
    {
     "name": "stderr",
     "output_type": "stream",
     "text": [
      "C:\\Users\\Jessica\\AppData\\Local\\Temp\\ipykernel_25308\\2600422441.py:4: SettingWithCopyWarning: \n",
      "A value is trying to be set on a copy of a slice from a DataFrame.\n",
      "Try using .loc[row_indexer,col_indexer] = value instead\n",
      "\n",
      "See the caveats in the documentation: https://pandas.pydata.org/pandas-docs/stable/user_guide/indexing.html#returning-a-view-versus-a-copy\n",
      "  df_vendas['faixa_vendas'] = pd.qcut(df_vendas['valor'], q=3, labels=['baixo', 'medio', 'alto'])\n"
     ]
    }
   ],
   "source": [
    "# Transformar a coluna valor (quantidade de veículos vendidos) em uma variável categórica, dividindo as vendas em faixas: “baixo”, “médio” e “alto” para classificação.\n",
    "# Usamos a função pd.qcut() para criar as três faixas baseadas nos tercis (ou seja, dividindo os dados em três partes iguais).\n",
    "# Criando a variável-alvo: faixa de vendas\n",
    "df_vendas['faixa_vendas'] = pd.qcut(df_vendas['valor'], q=3, labels=['baixo', 'medio', 'alto'])\n",
    "\n",
    "# Conferindo o resultado\n",
    "print(df_vendas[['regiao', 'ano', 'valor', 'faixa_vendas']].sample(10))\n",
    "print(df_vendas['faixa_vendas'].value_counts())\n"
   ]
  },
  {
   "cell_type": "markdown",
   "id": "a875661c",
   "metadata": {},
   "source": [
    "PRÉ PROCESSAMENTO"
   ]
  },
  {
   "cell_type": "code",
   "execution_count": 26,
   "id": "f419b6c1",
   "metadata": {},
   "outputs": [],
   "source": [
    "#  Separação das variáveis\n",
    "# Features e variável-alvo\n",
    "features = ['continente', 'ano', 'motorizacao'] \n",
    "X = df_vendas[features]\n",
    "y = df_vendas['faixa_vendas']"
   ]
  },
  {
   "cell_type": "code",
   "execution_count": 27,
   "id": "3181d19b",
   "metadata": {},
   "outputs": [],
   "source": [
    "# Separar conjunto de treino e teste\n",
    "X_train, X_test, y_train, y_test = train_test_split(\n",
    "    X, y, test_size=0.3, random_state=42, stratify=y\n",
    ")"
   ]
  },
  {
   "cell_type": "code",
   "execution_count": 28,
   "id": "a558a1fb",
   "metadata": {},
   "outputs": [],
   "source": [
    "# Transformar variáveis categóricas\n",
    "# Como temos categorias (ex: países, tipos de motorização), precisamos codificá-las.\n",
    "\n",
    "ohe = OneHotEncoder(sparse_output=False, handle_unknown='ignore')\n",
    "\n",
    "# Ajustar e transformar os dados\n",
    "X_train_enc = ohe.fit_transform(X_train)\n",
    "X_test_enc = ohe.transform(X_test)\n"
   ]
  },
  {
   "cell_type": "code",
   "execution_count": 29,
   "id": "35c42a24",
   "metadata": {},
   "outputs": [
    {
     "name": "stdout",
     "output_type": "stream",
     "text": [
      "Shape do X_train_enc: (939, 24)\n",
      "Shape do X_test_enc: (403, 24)\n",
      "Classes alvo: ['baixo', 'medio', 'alto']\n",
      "Categories (3, object): ['baixo' < 'medio' < 'alto']\n"
     ]
    }
   ],
   "source": [
    "# Conferência\n",
    "print(\"Shape do X_train_enc:\", X_train_enc.shape)\n",
    "print(\"Shape do X_test_enc:\", X_test_enc.shape)\n",
    "print(\"Classes alvo:\", y.unique())\n"
   ]
  },
  {
   "cell_type": "markdown",
   "id": "aa96e3bd",
   "metadata": {},
   "source": [
    "BALANCEAMENTO"
   ]
  },
  {
   "cell_type": "code",
   "execution_count": 33,
   "id": "b5624779",
   "metadata": {},
   "outputs": [
    {
     "name": "stdout",
     "output_type": "stream",
     "text": [
      "Valores únicos por coluna:\n",
      "regiao: 52 únicos\n",
      "regiao\n",
      "World                154\n",
      "Europe               154\n",
      "USA                  144\n",
      "China                132\n",
      "Rest of the world    124\n",
      "Name: count, dtype: int64 \n",
      "\n",
      "categoria: 1 únicos\n",
      "categoria\n",
      "Historical    3798\n",
      "Name: count, dtype: int64 \n",
      "\n",
      "parametro: 7 únicos\n",
      "parametro\n",
      "EV sales                1342\n",
      "EV stock                1145\n",
      "EV sales share           603\n",
      "EV stock share           465\n",
      "Oil displacement Mbd      84\n",
      "Name: count, dtype: int64 \n",
      "\n",
      "tipo_veiculo: 1 únicos\n",
      "tipo_veiculo\n",
      "Cars    3798\n",
      "Name: count, dtype: int64 \n",
      "\n",
      "motorizacao: 4 únicos\n",
      "motorizacao\n",
      "EV      1311\n",
      "BEV     1078\n",
      "PHEV     922\n",
      "FCEV     487\n",
      "Name: count, dtype: int64 \n",
      "\n",
      "ano: 14 únicos\n",
      "ano\n",
      "2021    338\n",
      "2022    336\n",
      "2023    332\n",
      "2020    321\n",
      "2019    319\n",
      "Name: count, dtype: int64 \n",
      "\n",
      "unidade: 5 únicos\n",
      "unidade\n",
      "Vehicles                         2487\n",
      "percent                          1068\n",
      "Milion barrels per day             84\n",
      "Oil displacement, million lge      84\n",
      "GWh                                75\n",
      "Name: count, dtype: int64 \n",
      "\n",
      "valor: 814 únicos\n",
      "valor\n",
      "1.0       47\n",
      "2.0       35\n",
      "3.0       32\n",
      "1200.0    27\n",
      "1400.0    25\n",
      "Name: count, dtype: int64 \n",
      "\n",
      "continente: 7 únicos\n",
      "continente\n",
      "Europe     2152\n",
      "Asia        592\n",
      "America     515\n",
      "Oceania     174\n",
      "World       154\n",
      "Name: count, dtype: int64 \n",
      "\n",
      "Distribuição original de 'continente':\n",
      "continente\n",
      "Europe     2152\n",
      "Asia        592\n",
      "America     515\n",
      "Oceania     174\n",
      "World       154\n",
      "Outros      124\n",
      "Africa       87\n",
      "Name: count, dtype: int64\n",
      "Distribuição balanceada de 'continente':\n",
      "Counter({'Oceania': 2152, 'Europe': 2152, 'America': 2152, 'Asia': 2152, 'Outros': 2152, 'Africa': 2152, 'World': 2152})\n"
     ]
    }
   ],
   "source": [
    "from imblearn.over_sampling import SMOTE\n",
    "from collections import Counter\n",
    "\n",
    "df_balanceamento = pd.read_csv(\"dataset_com_continente.csv\")\n",
    "\n",
    "\n",
    "# Quantidade de valores únicos em cada coluna\n",
    "print(\"Valores únicos por coluna:\")\n",
    "for col in df_balanceamento.columns:\n",
    "    print(f\"{col}: {df_balanceamento[col].nunique()} únicos\")\n",
    "    print(df_balanceamento[col].value_counts().head(), \"\\n\")\n",
    "\n",
    "# Ajuste aqui para o nome correto da coluna, por exemplo:\n",
    "coluna_alvo = 'continente'  # ou 'continente', conforme está no seu CSV\n",
    "\n",
    "# Verifica se é possível balancear essa coluna\n",
    "if df_balanceamento[coluna_alvo].nunique() < 2:\n",
    "    print(f\"Não é possível balancear '{coluna_alvo}' pois só tem uma classe.\")\n",
    "else:\n",
    "    # distribuição original\n",
    "    print(f\"Distribuição original de '{coluna_alvo}':\")\n",
    "    print(df_balanceamento[coluna_alvo].value_counts())\n",
    "\n",
    "    X = df_balanceamento.drop(columns=[coluna_alvo])\n",
    "    y = df_balanceamento[coluna_alvo]\n",
    "\n",
    "    # transformar variáveis categóricas em dummies (necessário para SMOTE)\n",
    "    X_dummies = pd.get_dummies(X, drop_first=True)\n",
    "\n",
    "    # aplicar o SMOTE\n",
    "    smote = SMOTE(random_state=42)\n",
    "    X_res, y_res = smote.fit_resample(X_dummies, y)\n",
    "\n",
    "    # nova distribuição\n",
    "    print(f\"Distribuição balanceada de '{coluna_alvo}':\")\n",
    "    print(Counter(y_res))\n"
   ]
  },
  {
   "cell_type": "code",
   "execution_count": 34,
   "id": "653316a7",
   "metadata": {},
   "outputs": [
    {
     "name": "stdout",
     "output_type": "stream",
     "text": [
      "Arquivo balanceado salvo como dataset_balanceado.csv\n"
     ]
    }
   ],
   "source": [
    "df_balanceado = pd.concat([pd.DataFrame(X_res, columns=X_dummies.columns), pd.Series(y_res, name=coluna_alvo)], axis=1)\n",
    "df_balanceado.to_csv('dataset_balanceado.csv', index=False)\n",
    "print(\"Arquivo balanceado salvo como dataset_balanceado.csv\")"
   ]
  },
  {
   "cell_type": "code",
   "execution_count": 36,
   "id": "646e0ec2",
   "metadata": {},
   "outputs": [
    {
     "data": {
      "image/png": "[encoded data removed]",
      "text/plain": [
       "<Figure size 1400x500 with 2 Axes>"
      ]
     },
     "metadata": {},
     "output_type": "display_data"
    }
   ],
   "source": [
    "import matplotlib.pyplot as plt\n",
    "\n",
    "# Antes do balanceamento\n",
    "df = pd.read_csv('dataset_com_continente.csv')\n",
    "counts_before = df['continente'].value_counts().sort_index()\n",
    "\n",
    "# Depois do balanceamento\n",
    "df_bal = pd.read_csv('dataset_balanceado.csv')\n",
    "counts_after = df_bal['continente'].value_counts().sort_index()\n",
    "\n",
    "# Plotando\n",
    "fig, axes = plt.subplots(1, 2, figsize=(14, 5), sharey=True)\n",
    "\n",
    "# Antes\n",
    "axes[0].bar(counts_before.index, counts_before.values)\n",
    "axes[0].set_title('Antes do balanceamento')\n",
    "axes[0].set_xlabel('Region')\n",
    "axes[0].set_ylabel('Quantidade')\n",
    "axes[0].tick_params(axis='x', rotation=90)\n",
    "\n",
    "# Depois\n",
    "axes[1].bar(counts_after.index, counts_after.values, color='orange')\n",
    "axes[1].set_title('Depois do balanceamento')\n",
    "axes[1].set_xlabel('Region')\n",
    "axes[1].tick_params(axis='x', rotation=90)\n",
    "\n",
    "plt.tight_layout()\n",
    "plt.show()\n"
   ]
  },
  {
   "cell_type": "markdown",
   "id": "2dff4e65",
   "metadata": {},
   "source": [
    "ARVORE DE DECISÃO"
   ]
  },
  {
   "cell_type": "code",
   "execution_count": null,
   "id": "17f45045",
   "metadata": {},
   "outputs": [],
   "source": [
    "#  Treinando o Classificador (Árvore de Decisão)\n",
    "from sklearn.tree import DecisionTreeClassifier\n",
    "from sklearn.metrics import classification_report, confusion_matrix\n",
    "\n",
    "# Treinamento do modelo\n",
    "dt = DecisionTreeClassifier(max_depth=5, random_state=42)\n",
    "dt.fit(X_train_enc, y_train)\n",
    "\n",
    "# Previsões\n",
    "y_pred = dt.predict(X_test_enc)\n"
   ]
  },
  {
   "cell_type": "code",
   "execution_count": null,
   "id": "63f5077d",
   "metadata": {},
   "outputs": [],
   "source": [
    "# Avaliando o Modelo\n",
    "# Relatório de classificação\n",
    "print(classification_report(y_test, y_pred))\n",
    "\n",
    "# Matriz de confusão\n",
    "print(\"Matriz de Confusão:\")\n",
    "print(confusion_matrix(y_test, y_pred))\n"
   ]
  },
  {
   "cell_type": "code",
   "execution_count": null,
   "id": "18c4d614",
   "metadata": {},
   "outputs": [],
   "source": [
    "# Visualização da Árvore de Decisão\n",
    "\n",
    "from sklearn import tree\n",
    "import matplotlib.pyplot as plt\n",
    "\n",
    "plt.figure(figsize=(22,10))\n",
    "tree.plot_tree(\n",
    "    dt,\n",
    "    feature_names=ohe.get_feature_names_out(),\n",
    "    class_names=dt.classes_,\n",
    "    filled=True,\n",
    "    fontsize=9,\n",
    "    rounded=True\n",
    ")\n",
    "plt.show()\n"
   ]
  },
  {
   "cell_type": "markdown",
   "id": "34a8f4fd",
   "metadata": {},
   "source": [
    "RANDOM FOREST"
   ]
  },
  {
   "cell_type": "code",
   "execution_count": null,
   "id": "e9c392b0",
   "metadata": {},
   "outputs": [],
   "source": [
    "# Treinando o Random Forest\n",
    "from sklearn.ensemble import RandomForestClassifier\n",
    "\n",
    "# Treinamento do modelo Random Forest\n",
    "rf = RandomForestClassifier(n_estimators=100, max_depth=7, random_state=42)\n",
    "rf.fit(X_train_enc, y_train)\n",
    "\n",
    "# Previsões\n",
    "y_pred_rf = rf.predict(X_test_enc)\n"
   ]
  },
  {
   "cell_type": "code",
   "execution_count": null,
   "id": "3660c575",
   "metadata": {},
   "outputs": [],
   "source": [
    "# Avaliando o Modelo Random Forest\n",
    "\n",
    "from sklearn.metrics import classification_report, confusion_matrix\n",
    "\n",
    "print(\"=== Random Forest ===\")\n",
    "print(classification_report(y_test, y_pred_rf))\n",
    "print(\"Matriz de Confusão:\")\n",
    "print(confusion_matrix(y_test, y_pred_rf))\n"
   ]
  },
  {
   "cell_type": "code",
   "execution_count": null,
   "id": "ef82ab31",
   "metadata": {},
   "outputs": [],
   "source": [
    "# Importância das Variáveis\n",
    "\n",
    "import numpy as np\n",
    "\n",
    "importances = rf.feature_importances_\n",
    "feature_names = ohe.get_feature_names_out()\n",
    "indices = np.argsort(importances)[::-1]\n",
    "\n",
    "print(\"Importância das variáveis (top 10):\")\n",
    "for i in range(min(10, len(feature_names))):\n",
    "    print(f\"{feature_names[indices[i]]}: {importances[indices[i]]:.4f}\")\n"
   ]
  },
  {
   "cell_type": "markdown",
   "id": "0ac09aac",
   "metadata": {},
   "source": [
    "COMPARATIVO "
   ]
  },
  {
   "cell_type": "code",
   "execution_count": null,
   "id": "df68dc16",
   "metadata": {},
   "outputs": [],
   "source": [
    "from sklearn.metrics import accuracy_score, precision_score, recall_score, f1_score\n",
    "\n",
    "# Função para gerar um dicionário de métricas\n",
    "def get_metrics(y_true, y_pred, modelo):\n",
    "    return {\n",
    "        'Modelo': modelo,\n",
    "        'Acurácia': accuracy_score(y_true, y_pred),\n",
    "        'Precisão (macro)': precision_score(y_true, y_pred, average='macro'),\n",
    "        'Recall (macro)': recall_score(y_true, y_pred, average='macro'),\n",
    "        'F1-score (macro)': f1_score(y_true, y_pred, average='macro')\n",
    "    }\n",
    "\n",
    "# Métricas da Árvore de Decisão\n",
    "metrics_dt = get_metrics(y_test, y_pred, 'Árvore de Decisão')\n",
    "\n",
    "# Métricas do Random Forest\n",
    "metrics_rf = get_metrics(y_test, y_pred_rf, 'Random Forest')\n",
    "\n",
    "# Organizar em DataFrame para visualização comparativa\n",
    "import pandas as pd\n",
    "df_comparacao = pd.DataFrame([metrics_dt, metrics_rf])\n",
    "\n",
    "print(df_comparacao)\n"
   ]
  }
 ],
 "metadata": {
  "kernelspec": {
   "display_name": "base",
   "language": "python",
   "name": "python3"
  },
  "language_info": {
   "codemirror_mode": {
    "name": "ipython",
    "version": 3
   },
   "file_extension": ".py",
   "mimetype": "text/x-python",
   "name": "python",
   "nbconvert_exporter": "python",
   "pygments_lexer": "ipython3",
   "version": "3.12.7"
  }
 },
 "nbformat": 4,
 "nbformat_minor": 5
}
