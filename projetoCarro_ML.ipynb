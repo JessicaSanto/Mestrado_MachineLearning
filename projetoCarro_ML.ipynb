{
 "cells": [
  {
   "cell_type": "code",
   "execution_count": null,
   "id": "54fcd0ec",
   "metadata": {},
   "outputs": [],
   "source": [
    "import sklearn as sk\n",
    "import matplotlib.pyplot as mt\n",
    "import seaborn as sb\n",
    "from sklearn.model_selection import train_test_split\n",
    "import pandas as pd\n",
    "from sklearn.preprocessing import OneHotEncoder"
   ]
  },
  {
   "cell_type": "code",
   "execution_count": null,
   "id": "188b149c",
   "metadata": {},
   "outputs": [],
   "source": [
    "df = pd.read_csv(\"dataset.csv\")\n",
    "print(df)"
   ]
  },
  {
   "cell_type": "code",
   "execution_count": null,
   "id": "3148e569",
   "metadata": {},
   "outputs": [],
   "source": [
    "print(df)\n",
    "df.duplicated().sum()\n",
    "df.isnull().sum()"
   ]
  },
  {
   "cell_type": "code",
   "execution_count": null,
   "id": "51f3f511",
   "metadata": {},
   "outputs": [],
   "source": [
    "df = df.rename(columns={\n",
    "    'region': 'regiao',\n",
    "    'category': 'categoria',\n",
    "    'parameter': 'parametro',\n",
    "    'mode': 'tipo_veiculo',\n",
    "    'powertrain': 'motorizacao',\n",
    "    'year': 'ano',\n",
    "    'unit': 'unidade',\n",
    "    'value': 'valor'\n",
    "})\n",
    "\n",
    "print(df)"
   ]
  },
  {
   "cell_type": "code",
   "execution_count": null,
   "id": "f065f811",
   "metadata": {},
   "outputs": [],
   "source": [
    "df_vendas = df[(df['parametro'] == 'EV sales') & (df['unidade'] == 'Vehicles')]\n",
    "\n",
    "print(df_vendas.head())\n",
    "print(df_vendas.columns)\n"
   ]
  },
  {
   "cell_type": "code",
   "execution_count": null,
   "id": "14fbfcfd",
   "metadata": {},
   "outputs": [],
   "source": [
    "df_vendas['faixa_vendas'] = pd.qcut(df_vendas['valor'], q=3, labels=['baixo', 'medio', 'alto'])\n",
    "\n",
    "print(df_vendas[['regiao', 'ano', 'valor', 'faixa_vendas']].sample(10))\n",
    "print(df_vendas['faixa_vendas'].value_counts())\n"
   ]
  }
 ],
 "metadata": {
  "kernelspec": {
   "display_name": "Python 3",
   "language": "python",
   "name": "python3"
  },
  "language_info": {
   "codemirror_mode": {
    "name": "ipython",
    "version": 3
   },
   "file_extension": ".py",
   "mimetype": "text/x-python",
   "name": "python",
   "nbconvert_exporter": "python",
   "pygments_lexer": "ipython3",
   "version": "3.12.10"
  }
 },
 "nbformat": 4,
 "nbformat_minor": 5
}
