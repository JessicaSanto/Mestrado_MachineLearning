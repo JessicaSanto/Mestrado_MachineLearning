{
 "cells": [
  {
   "cell_type": "code",
   "execution_count": 3,
   "id": "764c9e04",
   "metadata": {},
   "outputs": [],
   "source": [
    "import sklearn as sk\n",
    "import seaborn as sb\n",
    "from sklearn.model_selection import train_test_split\n",
    "import pandas as pd\n",
    "from sklearn.preprocessing import OneHotEncoder\n",
    "import pandas as pd"
   ]
  },
  {
   "cell_type": "code",
   "execution_count": 4,
   "id": "e8cfc1ea",
   "metadata": {},
   "outputs": [],
   "source": [
    "df = pd.read_csv(\"dataset.csv\")"
   ]
  },
  {
   "cell_type": "code",
   "execution_count": 5,
   "id": "18c71f5b",
   "metadata": {},
   "outputs": [
    {
     "name": "stdout",
     "output_type": "stream",
     "text": [
      "         region    category           parameter  mode powertrain  year  \\\n",
      "0     Australia  Historical            EV sales  Cars        BEV  2011   \n",
      "1     Australia  Historical      EV stock share  Cars         EV  2011   \n",
      "2     Australia  Historical      EV sales share  Cars         EV  2011   \n",
      "3     Australia  Historical            EV stock  Cars        BEV  2011   \n",
      "4     Australia  Historical            EV stock  Cars        BEV  2012   \n",
      "...         ...         ...                 ...   ...        ...   ...   \n",
      "3793      World  Historical            EV stock  Cars        BEV  2023   \n",
      "3794      World  Historical            EV sales  Cars        BEV  2023   \n",
      "3795      World  Historical      EV sales share  Cars         EV  2023   \n",
      "3796      World  Historical      EV stock share  Cars         EV  2023   \n",
      "3797      World  Historical  Electricity demand  Cars         EV  2023   \n",
      "\n",
      "          unit         value  \n",
      "0     Vehicles  4.900000e+01  \n",
      "1      percent  3.900000e-04  \n",
      "2      percent  6.500000e-03  \n",
      "3     Vehicles  4.900000e+01  \n",
      "4     Vehicles  2.200000e+02  \n",
      "...        ...           ...  \n",
      "3793  Vehicles  2.800000e+07  \n",
      "3794  Vehicles  9.500000e+06  \n",
      "3795   percent  1.800000e+01  \n",
      "3796   percent  3.200000e+00  \n",
      "3797       GWh  9.700000e+04  \n",
      "\n",
      "[3798 rows x 8 columns]\n"
     ]
    },
    {
     "data": {
      "text/plain": [
       "region        0\n",
       "category      0\n",
       "parameter     0\n",
       "mode          0\n",
       "powertrain    0\n",
       "year          0\n",
       "unit          0\n",
       "value         0\n",
       "dtype: int64"
      ]
     },
     "execution_count": 5,
     "metadata": {},
     "output_type": "execute_result"
    }
   ],
   "source": [
    "# A base ta limpinha\n",
    "print(df)\n",
    "df.duplicated().sum()\n",
    "df.isnull().sum()"
   ]
  },
  {
   "cell_type": "code",
   "execution_count": 6,
   "id": "6fd018da",
   "metadata": {},
   "outputs": [],
   "source": [
    "# Renomear as colunas em pt-br pra facilitar a vida\n",
    "df = df.rename(columns={\n",
    "    'region': 'regiao',\n",
    "    'category': 'categoria',\n",
    "    'parameter': 'parametro',\n",
    "    'mode': 'tipo_veiculo',\n",
    "    'powertrain': 'motorizacao',\n",
    "    'year': 'ano',\n",
    "    'unit': 'unidade',\n",
    "    'value': 'valor'\n",
    "})"
   ]
  },
  {
   "cell_type": "code",
   "execution_count": null,
   "id": "ad245e27",
   "metadata": {},
   "outputs": [
    {
     "name": "stdout",
     "output_type": "stream",
     "text": [
      "continente\n",
      "Europe     2152\n",
      "Asia        592\n",
      "America     515\n",
      "Oceania     174\n",
      "World       154\n",
      "Outros      124\n",
      "Africa       87\n",
      "Name: count, dtype: int64\n"
     ]
    }
   ],
   "source": [
    "\n",
    "regiao_continente = {\n",
    "    'World': 'World',\n",
    "    'Europe': 'Europe',\n",
    "    'EU27': 'Europe',\n",
    "    'France': 'Europe',\n",
    "    'Germany': 'Europe',\n",
    "    'Italy': 'Europe',\n",
    "    'United Kingdom': 'Europe',\n",
    "    'Spain': 'Europe',\n",
    "    'Portugal': 'Europe',\n",
    "    'Norway': 'Europe',\n",
    "    'Sweden': 'Europe',\n",
    "    'Finland': 'Europe',\n",
    "    'Denmark': 'Europe',\n",
    "    'Iceland': 'Europe',\n",
    "    'Poland': 'Europe',\n",
    "    'Netherlands': 'Europe',\n",
    "    'Belgium': 'Europe',\n",
    "    'Austria': 'Europe',\n",
    "    'Luxembourg': 'Europe',\n",
    "    'Switzerland': 'Europe',\n",
    "    'Ireland': 'Europe',\n",
    "    'Czech Republic': 'Europe',\n",
    "    'Slovakia': 'Europe',\n",
    "    'Hungary': 'Europe',\n",
    "    'Slovenia': 'Europe',\n",
    "    'Croatia': 'Europe',\n",
    "    'Bulgaria': 'Europe',\n",
    "    'Greece': 'Europe',\n",
    "    'Rest of the world': 'Outros',\n",
    "    'Estonia': 'Europe',\n",
    "    'Latvia': 'Europe',\n",
    "    'Lithuania': 'Europe',\n",
    "    'Romania': 'Europe',\n",
    "    'Cyprus': 'Europe',\n",
    "    'Seychelles': 'Africa',\n",
    "    'South Africa': 'Africa',\n",
    "    'Canada': 'America',\n",
    "    'USA': 'America',\n",
    "    'Mexico': 'America',\n",
    "    'Brazil': 'America',\n",
    "    'Chile': 'America',\n",
    "    'Colombia': 'America',\n",
    "    'Costa Rica': 'America',\n",
    "    'China': 'Asia',\n",
    "    'India': 'Asia',\n",
    "    'Japan': 'Asia',\n",
    "    'Korea': 'Asia',\n",
    "    'Israel': 'Asia',\n",
    "    'Turkey': 'Asia',\n",
    "    'Turkiye': 'Asia', \n",
    "    'United Arab Emirates': 'Asia',\n",
    "    'Australia': 'Oceania',\n",
    "    'New Zealand': 'Oceania',\n",
    "    'Rest of the world': 'Outros'\n",
    "    \n",
    "}\n",
    "\n",
    "df['continente'] = df['regiao'].map(regiao_continente).fillna('Outros')\n",
    "print(df['continente'].value_counts())\n"
   ]
  },
  {
   "cell_type": "code",
   "execution_count": 16,
   "id": "6824e11b",
   "metadata": {},
   "outputs": [
    {
     "name": "stdout",
     "output_type": "stream",
     "text": [
      "           regiao   ano      valor faixa_vendas\n",
      "1305       France  2016    23000.0         alto\n",
      "2175       Latvia  2018       73.0        baixo\n",
      "1599      Iceland  2015      170.0        baixo\n",
      "758        Cyprus  2021       98.0        baixo\n",
      "1850       Israel  2020     5400.0         alto\n",
      "446        Canada  2020    37000.0         alto\n",
      "1432      Germany  2018    36000.0         alto\n",
      "3772        World  2021  4700000.0         alto\n",
      "2331  Netherlands  2015    39000.0         alto\n",
      "750       Croatia  2023      990.0        medio\n",
      "faixa_vendas\n",
      "baixo    449\n",
      "alto     448\n",
      "medio    445\n",
      "Name: count, dtype: int64\n"
     ]
    }
   ],
   "source": [
    "# Transformar a coluna valor (quantidade de veículos vendidos) em uma variável categórica, dividindo as vendas em faixas: “baixo”, “médio” e “alto” para classificação.\n",
    "# Usamos a função pd.qcut() para criar as três faixas baseadas nos tercis (ou seja, dividindo os dados em três partes iguais).\n",
    "# Criando a variável-alvo: faixa de vendas\n",
    "df_vendas['faixa_vendas'] = pd.qcut(df_vendas['valor'], q=3, labels=['baixo', 'medio', 'alto'])\n",
    "\n",
    "# Conferindo o resultado\n",
    "print(df_vendas[['regiao', 'ano', 'valor', 'faixa_vendas']].sample(10))\n",
    "print(df_vendas['faixa_vendas'].value_counts())\n",
    "df.to_csv('dataset_com_continente.csv', index=False)"
   ]
  },
  {
   "cell_type": "code",
   "execution_count": 18,
   "id": "2383188e",
   "metadata": {},
   "outputs": [
    {
     "name": "stdout",
     "output_type": "stream",
     "text": [
      "       regiao   categoria parametro tipo_veiculo motorizacao   ano   unidade  \\\n",
      "0   Australia  Historical  EV sales         Cars         BEV  2011  Vehicles   \n",
      "6   Australia  Historical  EV sales         Cars        PHEV  2012  Vehicles   \n",
      "9   Australia  Historical  EV sales         Cars         BEV  2012  Vehicles   \n",
      "10  Australia  Historical  EV sales         Cars         BEV  2013  Vehicles   \n",
      "13  Australia  Historical  EV sales         Cars        PHEV  2013  Vehicles   \n",
      "\n",
      "    valor continente faixa_vendas  \n",
      "0    49.0    Oceania        baixo  \n",
      "6    80.0    Oceania        baixo  \n",
      "9   170.0    Oceania        baixo  \n",
      "10  190.0    Oceania        baixo  \n",
      "13  100.0    Oceania        baixo  \n",
      "Index(['regiao', 'categoria', 'parametro', 'tipo_veiculo', 'motorizacao',\n",
      "       'ano', 'unidade', 'valor', 'continente', 'faixa_vendas'],\n",
      "      dtype='object')\n"
     ]
    }
   ],
   "source": [
    "df_limpo = pd.read_csv(\"dataset_com_continente.csv\")\n",
    "print(df_vendas.head())\n",
    "print(df_vendas.columns)"
   ]
  }
 ],
 "metadata": {
  "language_info": {
   "name": "python"
  }
 },
 "nbformat": 4,
 "nbformat_minor": 5
}
